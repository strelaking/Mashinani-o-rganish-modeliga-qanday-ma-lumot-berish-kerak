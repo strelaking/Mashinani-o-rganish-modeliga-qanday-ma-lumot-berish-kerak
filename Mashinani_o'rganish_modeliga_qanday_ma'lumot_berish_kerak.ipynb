{
  "nbformat": 4,
  "nbformat_minor": 0,
  "metadata": {
    "colab": {
      "provenance": []
    },
    "kernelspec": {
      "name": "python3",
      "display_name": "Python 3"
    },
    "language_info": {
      "name": "python"
    }
  },
  "cells": [
    {
      "cell_type": "code",
      "execution_count": 2,
      "metadata": {
        "colab": {
          "base_uri": "https://localhost:8080/"
        },
        "id": "fnnPcg_YU-8f",
        "outputId": "3349b57c-0e62-4aa8-c634-87a772aa06ff"
      },
      "outputs": [
        {
          "output_type": "stream",
          "name": "stdout",
          "text": [
            "Prediction: ['Iris-setosa']\n"
          ]
        },
        {
          "output_type": "stream",
          "name": "stderr",
          "text": [
            "/usr/local/lib/python3.7/dist-packages/sklearn/base.py:451: UserWarning: X does not have valid feature names, but KNeighborsClassifier was fitted with feature names\n",
            "  \"X does not have valid feature names, but\"\n"
          ]
        }
      ],
      "source": [
        "import pandas as pd\n",
        "import numpy as np\n",
        "iris = pd.read_csv(\"/content/Iris.csv\")\n",
        "# ma'lumotlar to'plamini bo'lish\n",
        "x = iris.drop(\"species\", axis=1)\n",
        "y = iris[\"species\"]\n",
        "from sklearn.model_selection import train_test_split\n",
        "x_train, x_test, y_train, y_test = train_test_split(x, y, \n",
        "                                                    test_size=0.2, \n",
        "                                                    random_state=0)\n",
        "# modelni o'rgatish\n",
        "from sklearn.neighbors import KNeighborsClassifier\n",
        "knn = KNeighborsClassifier(n_neighbors=1)\n",
        "knn.fit(x_train, y_train)\n",
        "# mashinani o'rganish modeliga ma'lumotlar berish\n",
        "# features = [[sepal_length, sepal_width, petal_length, petal_width]]\n",
        "features = np.array([[5, 2.9, 1, 0.2]])\n",
        "# chiqishni bashorat qilish uchun kirishlardan foydalanish\n",
        "prediction = knn.predict(features)\n",
        "print(\"Prediction: {}\".format(prediction))"
      ]
    }
  ]
}